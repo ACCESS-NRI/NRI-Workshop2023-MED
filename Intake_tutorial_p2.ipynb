{
 "cells": [
  {
   "cell_type": "markdown",
   "id": "cb836184-31c3-4113-a89d-d93548f8bded",
   "metadata": {},
   "source": [
    "# Building Intake-ESM datastores of ACCESS model output\n",
    "\n",
    "**Aims**: This tutorial will demonstrate how users can build Intake-ESM datastores for their ACCESS model runs using the `access-nri-intake` Python package"
   ]
  },
  {
   "cell_type": "markdown",
   "id": "9f8f5cd3-93bf-4612-afc9-54ac6b2ce516",
   "metadata": {},
   "source": [
    "Builders classes for creating Intake-ESM datastores for different ACCESS model outputs are available in the `builders` submodule of the `access_nri_intake` Python package. There are currently Builders for outputs from ACCESS-OM2, ACCESS-CM2 and ACCESS-ESM1.5.\n",
    "\n",
    "In this tutorial, we'll build an Intake-ESM datastore for an ACCESS-CM2 model run with output at:\n",
    "\n",
    "`/g/data/p73/archive/non-CMIP/ACCESS-CM2/by578`.\n",
    "\n",
    "Because we're looking at ACCESS-CM2 output, we'll use the `AccessCm2Builder` class"
   ]
  },
  {
   "cell_type": "code",
   "execution_count": null,
   "id": "c356ba8b-0a80-4afe-a712-bb91f886b95d",
   "metadata": {
    "tags": []
   },
   "outputs": [],
   "source": [
    "import os\n",
    "\n",
    "from access_nri_intake.source.builders import AccessCm2Builder"
   ]
  },
  {
   "cell_type": "markdown",
   "id": "bc200ca9-5cba-4413-a550-bd0a4f1b54bd",
   "metadata": {},
   "source": [
    "# Building the datastore"
   ]
  },
  {
   "cell_type": "markdown",
   "id": "54ab0f35-68b2-40dc-a298-407bd7adc700",
   "metadata": {},
   "source": [
    "Building the Intake-ESM catalog should be as simple as passing the model run base output directory to the Builder and calling `.build()`. The build is parallelized so will be faster if you throw more resources at it. The following was run using an XX-Large `normalbw` ARE instance (28 cpus)."
   ]
  },
  {
   "cell_type": "code",
   "execution_count": null,
   "id": "db2a83f3-501d-48df-944d-67ba306bbfa5",
   "metadata": {
    "tags": []
   },
   "outputs": [],
   "source": [
    "%%time\n",
    "\n",
    "builder = AccessCm2Builder(\n",
    "    path=\"/g/data/p73/archive/non-CMIP/ACCESS-CM2/by578\",\n",
    "    ensemble=False # We could use this to pass multiple paths for different ensemble members\n",
    ").build()"
   ]
  },
  {
   "cell_type": "markdown",
   "id": "e61775ac-a973-4cb0-a87f-b6a695b9e00d",
   "metadata": {},
   "source": [
    "The previous cell builds the Intake-ESM datastore in memory. We'll want to save it somewhere so we can reuse and share it. The following cell will create two new files (a `.json` and `.csv` file) in your current work directory. These files are how Intake-ESM datastores are stored on disk."
   ]
  },
  {
   "cell_type": "code",
   "execution_count": null,
   "id": "7f4ed770-df35-4467-ab5e-ce9f8b8ec075",
   "metadata": {
    "tags": []
   },
   "outputs": [],
   "source": [
    "builder.save(\n",
    "    name=\"mydatastore\", \n",
    "    description=\"An example datastore for ACCESS-CM2 by578\",\n",
    ")"
   ]
  },
  {
   "cell_type": "markdown",
   "id": "1acbbe16-04a3-4a7c-bc30-3f2a4ec81fc9",
   "metadata": {
    "tags": []
   },
   "source": [
    "# Using your datastore"
   ]
  },
  {
   "cell_type": "markdown",
   "id": "e01ccb09-1783-4856-9648-f8ddcd863a80",
   "metadata": {},
   "source": [
    "Now we can use our Intake-ESM datastore to query and load the model data. We saw the basics of how to do this in the previous tutorial - see also the Intake-ESM documentation [here](https://intake-esm.readthedocs.io/en/stable/index.html).\n",
    "\n",
    "We can load the datastore directly using `intake`."
   ]
  },
  {
   "cell_type": "code",
   "execution_count": null,
   "id": "029dd740-fa73-4403-b756-2dff8fd0a32f",
   "metadata": {
    "tags": []
   },
   "outputs": [],
   "source": [
    "import intake\n",
    "\n",
    "esm_datastore = intake.open_esm_datastore(\n",
    "    \"./mydatastore.json\", \n",
    "    columns_with_iterables=[\"variable\"] # This is important\n",
    ")\n",
    "\n",
    "esm_datastore"
   ]
  },
  {
   "cell_type": "markdown",
   "id": "c9667b60-639b-4eb4-abf0-cb198ab2a9a0",
   "metadata": {},
   "source": [
    "It's easy to search for datasets in the datastore containing a particular variable and load them as xarray Datasets. (Note for analysing large datasets, you may want to first start a dask cluster)."
   ]
  },
  {
   "cell_type": "code",
   "execution_count": null,
   "id": "f7377e3c-19db-4732-9da2-6e3d3460de71",
   "metadata": {
    "tags": []
   },
   "outputs": [],
   "source": [
    "ds = esm_datastore.search(variable=\"temp\").to_dask()"
   ]
  },
  {
   "cell_type": "code",
   "execution_count": null,
   "id": "896a9cc5-ac81-4fcb-a70f-3d4ee6d59682",
   "metadata": {
    "tags": []
   },
   "outputs": [],
   "source": [
    "ds[\"temp\"].isel(time=-1, st_ocean=0).plot()"
   ]
  },
  {
   "cell_type": "markdown",
   "id": "0fcbcf73-42ed-4920-88a0-5a7b5f07f11c",
   "metadata": {},
   "source": [
    "If you think your ACCESS model data is worth sharing more widely, it might be a good idea to include it in the ACCESS-NRI Intake catalog. We're still working on requirements for data to be included in the catalog, but please feel free to open an issue here to discuss: https://github.com/ACCESS-NRI/access-nri-intake-catalog/issues/new/choose"
   ]
  }
 ],
 "metadata": {
  "kernelspec": {
   "display_name": "Python 3 (ipykernel)",
   "language": "python",
   "name": "python3"
  },
  "language_info": {
   "codemirror_mode": {
    "name": "ipython",
    "version": 3
   },
   "file_extension": ".py",
   "mimetype": "text/x-python",
   "name": "python",
   "nbconvert_exporter": "python",
   "pygments_lexer": "ipython3",
   "version": "3.9.16"
  }
 },
 "nbformat": 4,
 "nbformat_minor": 5
}
