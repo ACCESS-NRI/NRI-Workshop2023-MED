{
 "cells": [
  {
   "cell_type": "markdown",
   "id": "d76aa5d0-7c03-4303-b242-2c79d9328947",
   "metadata": {
    "tags": []
   },
   "source": [
    "# ACCESS-NRI Intake catalog tutorial\n",
    "\n",
    "**Aims**: This tutorial will introduce the ACCESS-NRI Intake catalog a show you how to use it to find and load model data for analysis"
   ]
  },
  {
   "cell_type": "markdown",
   "id": "487c985d-b509-4b5f-a96b-83be534160ae",
   "metadata": {
    "editable": true,
    "slideshow": {
     "slide_type": ""
    },
    "tags": []
   },
   "source": [
    "# Opening the catalog "
   ]
  },
  {
   "cell_type": "markdown",
   "id": "384f4b18-61b4-4fc3-beb6-640c2a009887",
   "metadata": {},
   "source": [
    "We'll start by opening the catalog and getting a feel for what it contains."
   ]
  },
  {
   "cell_type": "code",
   "execution_count": null,
   "id": "a0c9b2bf-24d0-4779-943d-284bf3db43a0",
   "metadata": {
    "tags": []
   },
   "outputs": [],
   "source": [
    "import intake\n",
    "\n",
    "catalog = intake.cat.access_nri"
   ]
  },
  {
   "cell_type": "markdown",
   "id": "2c974fb1-6572-4c0a-b9aa-ee98ca35ed7b",
   "metadata": {},
   "source": [
    "With that, we can now use `catalog` to search and load ~3 PB of data without having to know where the data is or how it's structured. \n",
    "\n",
    "The catalog includes a wide variety of climate data products. The \"name\" column gives the name of the data product and the other columns provide additional metadata associated with each product. As we'll demonstrate below, you can search on metadata in these columns to filter for data products that may be of interest to you. Scroll through the products below and get an idea for what each product is by looking at the entry in the description column."
   ]
  },
  {
   "cell_type": "code",
   "execution_count": null,
   "id": "d99b4475-b12f-431a-a3f5-10ecaa430e92",
   "metadata": {
    "tags": []
   },
   "outputs": [],
   "source": [
    "catalog"
   ]
  },
  {
   "cell_type": "markdown",
   "id": "a8cdf3e6-cc3f-462d-ac2a-71d236ac93dd",
   "metadata": {},
   "source": [
    "# Using the catalog"
   ]
  },
  {
   "cell_type": "markdown",
   "id": "50a24c4c-4a74-4bda-9ad7-2dcd573178e3",
   "metadata": {},
   "source": [
    "Each entry (row) in the catalog describes a data product comprising many datasets spread across many files (a \"dataset\" here is a set of files that can be readily opened and combined for analysis using xarray - more on this later). For example, in a given ACCESS-CM2 product, there may be a dataset of ocean variables at monthly frequency, atmospheric variables at monthly frequency etc. Each entry in the catalog has a corresponding Intake-ESM datastore that can be used to filter for datasets of interest based on metadata in the datastore and then to open those datasets using xarray.\n",
    "\n",
    "The general process for using the catalog is as follows:\n",
    "\n",
    "1. Search the ACCESS-NRI catalog for data products that are of interest to you.\n",
    "2. Open the Intake-ESM datastore(s) for the product(s) of interest. \n",
    "3. Search the Intake-ESM datastore(s) for the datasets within each product that are of interest to you.\n",
    "4. Open the datasets of interest as xarray Dataset(s).\n",
    "5. Perform some analysis on the xarray Dataset(s).\n",
    "\n",
    "This process is illustrated in the schematic below. Pink text indicates the methods used to perform each task."
   ]
  },
  {
   "cell_type": "markdown",
   "id": "e0c8e60f-9150-4591-b2c0-a811ee81cb96",
   "metadata": {
    "tags": []
   },
   "source": [
    "<img src=\"./catalog_flow.svg\" alt=\"Alternative text\" />"
   ]
  },
  {
   "cell_type": "markdown",
   "id": "d9733781-22d1-4e76-be55-41b8b661d639",
   "metadata": {},
   "source": [
    "If a user knows in advance the name of the product(s) they are after, then the first two steps above are not needed. Instead, those Intake-ESM datastores can be easily retreived directly from the catalog as demonstrated later on."
   ]
  },
  {
   "cell_type": "markdown",
   "id": "5dcb5516-b3c6-497c-a0f3-2b2380882f01",
   "metadata": {},
   "source": [
    "# Catalog filtering and data discovery"
   ]
  },
  {
   "cell_type": "markdown",
   "id": "79f3e642-2b2e-488d-b287-e5c8f9e1fd95",
   "metadata": {},
   "source": [
    "We can search on the columns in the ACCESS-NRI catalog. For example, we could search for all products that use the model `ACCESS-OM2`. The `search` method returns another catalog object with entries that satisfy our search criteria."
   ]
  },
  {
   "cell_type": "code",
   "execution_count": null,
   "id": "a499cf6d-f6d6-4908-86b0-29a4c17fd6c4",
   "metadata": {
    "tags": []
   },
   "outputs": [],
   "source": [
    "catalog_filtered = catalog.search(model=\"ACCESS-OM2\")\n",
    "catalog_filtered"
   ]
  },
  {
   "cell_type": "markdown",
   "id": "7817f6c0-5ac2-4a22-a758-bd2cf1c5e763",
   "metadata": {},
   "source": [
    "We can also combine queries in a search. For example, below we search for all products that use the model `ACCESS-OM2` and contain the variable `wdet100` at daily frequency."
   ]
  },
  {
   "cell_type": "code",
   "execution_count": null,
   "id": "e962c8d5-3f5b-4c37-9ac0-bae42f4e8612",
   "metadata": {
    "editable": true,
    "scrolled": true,
    "slideshow": {
     "slide_type": ""
    },
    "tags": []
   },
   "outputs": [],
   "source": [
    "catalog.search(model=\"ACCESS-OM2\", frequency=\"1day\", variable=\"wdet100\")"
   ]
  },
  {
   "cell_type": "markdown",
   "id": "2c9f8cf7-3e9e-45b5-8357-e498b981f19e",
   "metadata": {},
   "source": [
    "We can also use regex strings in our searches. For example, we could relax our query on variable to look for any variables starting with the letter `\"w\"`."
   ]
  },
  {
   "cell_type": "code",
   "execution_count": null,
   "id": "12363eca-c265-4093-990c-adbd39a0b396",
   "metadata": {},
   "outputs": [],
   "source": [
    "catalog.search(model=\"ACCESS-OM2\", frequency=\"1day\", variable=\"w.*\")"
   ]
  },
  {
   "cell_type": "markdown",
   "id": "3233b48e-608b-4851-a069-124494b03553",
   "metadata": {},
   "source": [
    "Note, metadata in the `realm` and `frequency` columns of the ACCESS-NRI catalog follow a standard vocabulary that is very similar to CMIP6 (but slightly more general):\n",
    "\n",
    " - `realm` may be one of:\n",
    "   - `aerosol`,\n",
    "   - `atmos`,\n",
    "   - `atmosChem`,\n",
    "   - `land`,\n",
    "   - `landIce`,\n",
    "   - `none`,\n",
    "   - `ocean`,\n",
    "   - `ocnBgchem`,\n",
    "   - `seaIce`,\n",
    "   - `unknown`\n",
    " - `frequency` may be one of (where `<int>` is an integer):\n",
    "   - `fx`\n",
    "   - `subhr`\n",
    "   - `<int>hr`\n",
    "   - `<int>day`\n",
    "   - `<int>mon`\n",
    "   - `<int>yr`\n",
    "   - `<int>dec`\n",
    "  \n",
    "Some attempt has been made to use consistent model names in the `model` column (e.g. always use \"ACCESS-OM2\" for ACCESS-OM2), but model naming is not enforced. The variable names in the `variable` column are whatever they're called in the associated data product."
   ]
  },
  {
   "cell_type": "markdown",
   "id": "16aa34cf-e7aa-4972-b20b-4ad5077b3565",
   "metadata": {},
   "source": [
    "# Loading Intake sources"
   ]
  },
  {
   "cell_type": "markdown",
   "id": "0aee7e32-3287-48c7-bfe3-58d892b6efe1",
   "metadata": {
    "tags": []
   },
   "source": [
    "Remember that each entry in the catalog has an associated Intake-ESM datastore that keeps track of all the files in that product and how they fit together into datasets. There are three ways to open Intake-ESM datastores from the catalog, depening on your use case:"
   ]
  },
  {
   "cell_type": "markdown",
   "id": "912c459c-0028-4101-a110-c33e9756f44c",
   "metadata": {},
   "source": [
    "## 1. You know the name of the product you want\n",
    "\n",
    "In this case, you can open the Intake-ESM datastore for that product directly as an attribute or key. For example"
   ]
  },
  {
   "cell_type": "code",
   "execution_count": null,
   "id": "4d68112c-3489-4e3b-bb77-d9617c1e709a",
   "metadata": {},
   "outputs": [],
   "source": [
    "datastore_example = catalog.by647\n",
    "\n",
    "# Or\n",
    "\n",
    "datastore_example = catalog[\"by647\"]"
   ]
  },
  {
   "cell_type": "markdown",
   "id": "c781c445-413f-4ca1-a83b-32c476a2b8b5",
   "metadata": {},
   "source": [
    "## 2. You've filtered the catalog for the products you want and there are multiple remaining\n",
    "\n",
    "In this case, you can open the Intake-ESM datastores for all entries in a catalog using the `to_source_dict` method. For example"
   ]
  },
  {
   "cell_type": "code",
   "execution_count": null,
   "id": "4f51b900-5001-44e1-b102-0e2c812430f5",
   "metadata": {},
   "outputs": [],
   "source": [
    "datastore_dict_example = catalog.search(model=\"ACCESS-OM2\", frequency=\"1day\", variable=\"wdet100\").to_source_dict()"
   ]
  },
  {
   "cell_type": "markdown",
   "id": "724ac6c9-4c03-41a1-9a11-e07017c4aaab",
   "metadata": {},
   "source": [
    "## 3. You've filtered the catalog for the products you want and there's only one remaining \n",
    "\n",
    "In this case, you can open the Intake-ESM datastore for the remaining product using the `to_source` method (note you could also use `to_source_dict` which would return a dictionary containing the Intake-ESM datastore, rather than the datastore itself). For example"
   ]
  },
  {
   "cell_type": "code",
   "execution_count": null,
   "id": "b623fc62-2fbc-4b93-b746-87dc816556fd",
   "metadata": {
    "tags": []
   },
   "outputs": [],
   "source": [
    "datastore_example = catalog.search(name=\"by647\").to_source()"
   ]
  },
  {
   "cell_type": "markdown",
   "id": "ecbdd135-0afc-4da1-9f71-00174e7bf1c1",
   "metadata": {},
   "source": [
    "# Additional source metadata"
   ]
  },
  {
   "cell_type": "markdown",
   "id": "f36fe70f-8d8a-4d46-8df9-55d57a903ad1",
   "metadata": {},
   "source": [
    "Each Intake-ESM datastore has its own `.metadata` attribute that contains additional information about that experiment."
   ]
  },
  {
   "cell_type": "code",
   "execution_count": null,
   "id": "69615664-9a30-49e1-aabb-9490862387dd",
   "metadata": {
    "tags": []
   },
   "outputs": [],
   "source": [
    "catalog.by647.metadata"
   ]
  },
  {
   "cell_type": "markdown",
   "id": "ce3b9828-cbcd-427c-9e66-c2c5ee83ecca",
   "metadata": {},
   "source": [
    "# An example workflow\n",
    "\n",
    "As a full example workflow, let's use the ACCESS-NRI catalog to carry out an analysis comparing the SST climatology in the Nino-3.4 region from two data products:\n",
    "\n",
    "- An ACCESS-ESM1.5 experiment: `HI_C_05_r1`\n",
    "- An ACCESS-CM2 experiment: `bx944`\n",
    "\n",
    "(Note, up until this point we haven't actually opened any data from any products. However, below we access data from the `p73` project on Gadi. You will therefore need to be a member of this project to run this section.)\n",
    "\n",
    "First we'll search directly for the products by their names and get the Intake-ESM datastores for those experiments. Here we use the `to_source_dict` method to load the datastores because there is more than one of them."
   ]
  },
  {
   "cell_type": "code",
   "execution_count": null,
   "id": "e08a08e4-dd55-4855-9976-8668bd4e8c4d",
   "metadata": {
    "tags": []
   },
   "outputs": [],
   "source": [
    "datastore_dict = catalog.search(name=[\"HI_C_05_r1\",\"bx944\"]).to_source_dict()"
   ]
  },
  {
   "cell_type": "markdown",
   "id": "0d28ce09-ea05-4262-982f-e2107b37c59b",
   "metadata": {},
   "source": [
    "We're going to use dask to help us open and process the data from these datastores. We can start a local distributed dask cluster as follows"
   ]
  },
  {
   "cell_type": "code",
   "execution_count": null,
   "id": "130b248c-e5e4-4fa9-a57c-72ac0628afec",
   "metadata": {},
   "outputs": [],
   "source": [
    "from distributed import Client\n",
    "\n",
    "client = Client(threads_per_worker=1)\n",
    "client.dashboard_link"
   ]
  },
  {
   "cell_type": "markdown",
   "id": "3f881133-4d08-4863-8ac2-442c79b8fef0",
   "metadata": {},
   "source": [
    "Note, it is very helpful to monitor the dask dashboard when working with dask. Click on the dask icon on the far left of the screen (three orange and red squares) and enter the text output by the previous cell in the search bar. Each of the different orange panels is a different dashboard that you can use to monitor what dask is doing. If you don't know which to choose, the \"Task Stream\", \"Progress\", \"CPU\" and \"Workers Memory\" diagnostics are a good start. Click on these, and drag the windows to where ever you want them in your JupyterLab."
   ]
  },
  {
   "cell_type": "markdown",
   "id": "16de07a4-34af-41e5-9d46-5543f982645c",
   "metadata": {},
   "source": [
    "We want to open datasets of SST from each of our datastores in `datastore_dict`. We could do this all in one line, but we'll break it down into multiple steps for clarity. Note the renaming of `xt_ocean` and `yt_ocean` to `longitude` and `latitude` isn't correct globally, but `xt_ocean` and `yt_ocean` can be interpretted as longitudes and latitudes in the region we're interested in. The renaming is done simply to make things are little more convenient later on."
   ]
  },
  {
   "cell_type": "code",
   "execution_count": null,
   "id": "59c4fa0c-0359-49e6-bec9-507ea5e29df6",
   "metadata": {},
   "outputs": [],
   "source": [
    "dataset_dict = {}\n",
    "\n",
    "for name, datastore in datastore_dict.items():\n",
    "\n",
    "    # Search for monthly SST dataset in the datastore\n",
    "    datastore_filtered = datastore.search(realm=\"ocean\", variable=\"sst\", frequency=\"1mon\")\n",
    "\n",
    "    # Open the monthly SST dataset as an xarray Dataset\n",
    "    # The arguments passes to to_dask aren't essential, but they speed up opening the datasets\n",
    "    dataset = datastore_filtered.to_dask(\n",
    "        xarray_open_kwargs = dict(use_cftime=True),\n",
    "        xarray_combine_by_coords_kwargs = dict(compat=\"override\", coords=\"minimal\")\n",
    "    )\n",
    "\n",
    "    # Rename coordinate for convenience\n",
    "    dataset_dict[name] = dataset.rename({\"xt_ocean\": \"longitude\", \"yt_ocean\": \"latitude\"})"
   ]
  },
  {
   "cell_type": "markdown",
   "id": "df258292-cabe-4c4b-814b-6b519780ec6d",
   "metadata": {},
   "source": [
    "Now we can do our analysis on these data. To do this, we use two functions: the first computes the monthly climatological mean in the Nino-3.4 region over 1971-2000; and the second wraps the first to compute and plot the climatological mean for a dictionary of datasets containing the variable `sst`."
   ]
  },
  {
   "cell_type": "code",
   "execution_count": null,
   "id": "f5c6231b-1dc0-471d-85ff-ea369e2af322",
   "metadata": {
    "tags": []
   },
   "outputs": [],
   "source": [
    "def compute_nino34_clim(sst):\n",
    "    \"\"\"\n",
    "    Compute the monthly climatological mean in the Nino-3.4 region over 1971-2000\n",
    "    \"\"\"\n",
    "    sst = sst.sel(time=slice(\"1971\", \"2000\"))\n",
    "    \n",
    "    sst = sst.assign_coords(\n",
    "        {\"longitude\": (sst[\"longitude\"] + 360) % 360}\n",
    "    )\n",
    "    \n",
    "    # NOTE: really this should be area weighted\n",
    "    sst_nino34 = sst.where(\n",
    "        (sst.latitude < 5) & \n",
    "        (sst.latitude > -5) & \n",
    "        (sst.longitude > 190) & \n",
    "        (sst.longitude < 240), \n",
    "        drop=True\n",
    "    ).mean(\n",
    "        set(sst.latitude.dims + sst.longitude.dims)\n",
    "    ).compute()\n",
    "    \n",
    "    return sst_nino34.groupby(\"time.month\").mean(\"time\")"
   ]
  },
  {
   "cell_type": "code",
   "execution_count": null,
   "id": "86eeaa7a-da9b-49f8-a7a4-a2510e49beae",
   "metadata": {},
   "outputs": [],
   "source": [
    "import matplotlib.pyplot as plt\n",
    "\n",
    "def plot_nino34_clim(dataset_dict):\n",
    "    \"\"\"\n",
    "    Plot the monthly climatological mean of SST in the Nino-3.4 region over 1971-2000\n",
    "    \"\"\"\n",
    "    for idx, (name, ds) in enumerate(dataset_dict.items()):\n",
    "        nino34_clim = compute_nino34_clim(ds)[\"sst\"]\n",
    "        \n",
    "        # NOTE: there're better ways to deal with units, but this will do for this demo\n",
    "        if (nino34_clim > 273.15).any().item():\n",
    "            nino34_clim -= 273.15\n",
    "            \n",
    "        nino34_clim.plot.line(x=\"month\", color=f\"C{idx}\", add_legend=False, label=name)\n",
    "\n",
    "    plt.title(\"SST climatology in Nino-3.4 region\")\n",
    "    plt.ylabel(\"SST\")\n",
    "    plt.grid()\n",
    "\n",
    "    # Remove duplicates in legend\n",
    "    handles, labels = plt.gca().get_legend_handles_labels()\n",
    "    by_label = dict(zip(labels, handles))\n",
    "    plt.legend(by_label.values(), by_label.keys())"
   ]
  },
  {
   "cell_type": "code",
   "execution_count": null,
   "id": "263fe43c-752c-4a28-944c-c694e5f615b8",
   "metadata": {
    "scrolled": true,
    "tags": []
   },
   "outputs": [],
   "source": [
    "plot_nino34_clim(dataset_dict)"
   ]
  },
  {
   "cell_type": "markdown",
   "id": "9af463bf-71b5-49b1-ae5a-659b56bec0c0",
   "metadata": {},
   "source": [
    "Maybe we'd also like to add some ACCESS-ESM1-5 CMIP6 data to our plot? That's easy because the [NCI CMIP6 Intake-ESM datastores](https://opus.nci.org.au/pages/viewpage.action?pageId=213713098) are included in the ACCESS-NRI catalog."
   ]
  },
  {
   "cell_type": "code",
   "execution_count": null,
   "id": "18669d74-dd8b-4c11-ac2e-f1100f964d09",
   "metadata": {
    "tags": []
   },
   "outputs": [],
   "source": [
    "cmip6_datastore = catalog.search(name=\"cmip6.*\", model=\"ACCESS-ESM1-5\").to_source()"
   ]
  },
  {
   "cell_type": "markdown",
   "id": "47e3722d-cb8f-48f9-9967-f6c83d9225d5",
   "metadata": {},
   "source": [
    "Let's search for and load the ACCESS-ESM1-5 historical run. In this Intake-ESM datastore (which was generated by NCI), each of the 40 ACCESS-ESM1-5 ensemble members are considered separate datasets. We'll open them using `to_dataset_dict` and concantenate them into a single dataset."
   ]
  },
  {
   "cell_type": "code",
   "execution_count": null,
   "id": "19feda41-d02d-411c-9b08-d2d03798f7ce",
   "metadata": {
    "tags": []
   },
   "outputs": [],
   "source": [
    "cmip6_datastore_filtered = cmip6_datastore.search(\n",
    "    source_id=\"ACCESS-ESM1-5\", \n",
    "    table_id=\"Omon\", \n",
    "    variable_id=\"tos\", \n",
    "    experiment_id=\"historical\", \n",
    "    file_type=\"f\"\n",
    ")\n",
    "\n",
    "cmip6_datastore_filtered"
   ]
  },
  {
   "cell_type": "code",
   "execution_count": null,
   "id": "e6d939b1-3608-4004-a8ee-780d80e3cee2",
   "metadata": {
    "tags": []
   },
   "outputs": [],
   "source": [
    "import xarray as xr\n",
    "\n",
    "ds = xr.concat(\n",
    "    cmip6_datastore_filtered.to_dataset_dict(progressbar=False).values(), \n",
    "    dim=\"member\"\n",
    ")"
   ]
  },
  {
   "cell_type": "markdown",
   "id": "1a611d04-7b40-4b67-a2af-0c6123cfa505",
   "metadata": {},
   "source": [
    "Now we can add the CMIP6 ACCESS-ESM1-5 ensemble to our plot. Perhaps unsurprisingly, the added climatologies look very similar to the `HI_C_05_r1` climatology (which uses the same model)."
   ]
  },
  {
   "cell_type": "code",
   "execution_count": null,
   "id": "4b3025b4-8ce9-40ef-b1e0-35ed10599e9a",
   "metadata": {
    "tags": []
   },
   "outputs": [],
   "source": [
    "dataset_dict[\"CMIP6 ACCESS-ESM1.5 historical\"] = ds.rename({\"tos\": \"sst\"})\n",
    "\n",
    "plot_nino34_clim(dataset_dict)"
   ]
  },
  {
   "cell_type": "code",
   "execution_count": null,
   "id": "6c4cd152-ffea-4651-b9b3-980f51a63c89",
   "metadata": {
    "tags": []
   },
   "outputs": [],
   "source": [
    "client.close()"
   ]
  }
 ],
 "metadata": {
  "kernelspec": {
   "display_name": "Python 3 (ipykernel)",
   "language": "python",
   "name": "python3"
  },
  "language_info": {
   "codemirror_mode": {
    "name": "ipython",
    "version": 3
   },
   "file_extension": ".py",
   "mimetype": "text/x-python",
   "name": "python",
   "nbconvert_exporter": "python",
   "pygments_lexer": "ipython3",
   "version": "3.9.16"
  }
 },
 "nbformat": 4,
 "nbformat_minor": 5
}
